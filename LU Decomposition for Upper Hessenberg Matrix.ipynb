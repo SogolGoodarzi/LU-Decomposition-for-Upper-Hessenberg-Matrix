{
  "nbformat": 4,
  "nbformat_minor": 0,
  "metadata": {
    "colab": {
      "provenance": [],
      "collapsed_sections": [
        "Ne3BT3hv0yJx",
        "THa1atlQZH85",
        "iu4PXi7a_-P7",
        "E4Hlyi9WTEGM",
        "SMlG5DXGZNVi",
        "rRlbBeQPvuC_",
        "uUOJ-dnH-pgY",
        "Sxaz9EWlDGp0",
        "sg3325tgwGbE",
        "pbJ9S7Fk6efu",
        "h6IW8o4ZUAoG",
        "pmfqH7Ih3jEr",
        "8L8zVFUTL9yz",
        "gbYyAhHJMMCn",
        "LVZzxLILxB6P",
        "hahgUz9xxNpz"
      ]
    },
    "kernelspec": {
      "name": "python3",
      "display_name": "Python 3"
    },
    "language_info": {
      "name": "python"
    }
  },
  "cells": [
    {
      "cell_type": "markdown",
      "source": [
        "## **LU Decomposition for Upper Hessenberg Matrix**\n",
        "\n",
        "### **A function for LU decomposition**"
      ],
      "metadata": {
        "id": "SMlG5DXGZNVi"
      }
    },
    {
      "cell_type": "code",
      "source": [
        "# For general matrices:\n",
        "def LU_decomposition_General(A):\n",
        "  [row,col] = np.shape(A)\n",
        "  U = A.astype('float32')\n",
        "  L = np.eye(row)\n",
        "  for r in range(row):\n",
        "    factor = U[r+1:, r] / U[r, r]\n",
        "    U[r+1:,:] -= factor[:, np.newaxis] * U[r]\n",
        "    L[r+1:, r] = factor\n",
        "  return [L,U]"
      ],
      "metadata": {
        "id": "MSTi5JW8Z1yE"
      },
      "execution_count": null,
      "outputs": []
    },
    {
      "cell_type": "code",
      "source": [
        "# For upper Hessenberg matrices:\n",
        "def LU_decomposition(A):\n",
        "  [row,col] = np.shape(A)\n",
        "  U = A.astype('float32')\n",
        "  L = np.eye(row)\n",
        "  for r in range(row-1):\n",
        "    factor = U[r+1, r] / U[r, r]\n",
        "    U[r+1,:] -= factor * U[r]\n",
        "    L[r+1, r] = factor\n",
        "  return [L,U]"
      ],
      "metadata": {
        "id": "0_KVjcG2uYb7"
      },
      "execution_count": null,
      "outputs": []
    },
    {
      "cell_type": "code",
      "source": [
        "# Testing the function for a sample upper Hessenberg matrix:\n",
        "A = np.array([[5,2,-1,3,2],[-1,6,0,-1,5],[0,4,-3,4,-4],[0,0,6,2,7],[0,0,0,8,1]])\n",
        "[L,U] = LU_decomposition(A)\n",
        "print('Lower triangular matrix:\\n', L)\n",
        "print('Upper triangular matrix:\\n', U)"
      ],
      "metadata": {
        "colab": {
          "base_uri": "https://localhost:8080/"
        },
        "id": "lBIZkcGFhXac",
        "outputId": "8ccb15ae-cd79-4768-cee0-2493bb4cace7"
      },
      "execution_count": null,
      "outputs": [
        {
          "output_type": "stream",
          "name": "stdout",
          "text": [
            "Lower triangular matrix:\n",
            " [[ 1.         0.         0.         0.         0.       ]\n",
            " [-0.2        1.         0.         0.         0.       ]\n",
            " [ 0.         0.625      1.         0.         0.       ]\n",
            " [ 0.         0.        -2.0869565  1.         0.       ]\n",
            " [ 0.         0.         0.         0.736      1.       ]]\n",
            "Upper triangular matrix:\n",
            " [[ 5.          2.         -1.          3.          2.        ]\n",
            " [ 0.          6.4        -0.2        -0.39999998  5.4       ]\n",
            " [ 0.          0.         -2.875       4.25       -7.375     ]\n",
            " [ 0.          0.          0.         10.869565   -8.391304  ]\n",
            " [ 0.          0.          0.          0.          7.1759996 ]]\n"
          ]
        }
      ]
    }
  ]
}